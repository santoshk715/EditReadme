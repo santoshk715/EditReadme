{
  "cells": [
    {
      "cell_type": "markdown",
      "metadata": {
        "id": "view-in-github",
        "colab_type": "text"
      },
      "source": [
        "<a href=\"https://colab.research.google.com/github/santoshk715/EditReadme/blob/main/Creating_NumPy_Arrays.ipynb\" target=\"_parent\"><img src=\"https://colab.research.google.com/assets/colab-badge.svg\" alt=\"Open In Colab\"/></a>"
      ]
    },
    {
      "cell_type": "markdown",
      "metadata": {
        "id": "VWeaYyrPS4HD"
      },
      "source": [
        "<h2 style = \"color : Brown\"> Creating NumPy Arrays </h2 >\n",
        "\n"
      ]
    },
    {
      "cell_type": "markdown",
      "metadata": {
        "id": "IYGByuLaS4HK"
      },
      "source": [
        " The following ways are commonly used when you know the size of the array beforehand:\n",
        "* ```np.ones()```: Create array of 1s\n",
        "* ```np.zeros()```: Create array of 0s\n",
        "* ```np.random.random()```: Create array of random numbers\n",
        "* ```np.arange()```: Create array with increments of a fixed step size\n",
        "* ```np.linspace()```: Create array of fixed length"
      ]
    },
    {
      "cell_type": "code",
      "execution_count": 4,
      "metadata": {
        "id": "rsiE41gzS4HM"
      },
      "outputs": [],
      "source": [
        "import numpy as np"
      ]
    },
    {
      "cell_type": "markdown",
      "metadata": {
        "id": "OSsfBNBxS4HO"
      },
      "source": [
        "##### Tip: Use help to see the syntax when required"
      ]
    },
    {
      "cell_type": "code",
      "execution_count": null,
      "metadata": {
        "id": "LdkaOL27S4HO",
        "outputId": "45944d86-6098-410d-db0c-f63bead155e8"
      },
      "outputs": [
        {
          "name": "stdout",
          "output_type": "stream",
          "text": [
            "Help on function ones in module numpy:\n",
            "\n",
            "ones(shape, dtype=None, order='C')\n",
            "    Return a new array of given shape and type, filled with ones.\n",
            "    \n",
            "    Parameters\n",
            "    ----------\n",
            "    shape : int or sequence of ints\n",
            "        Shape of the new array, e.g., ``(2, 3)`` or ``2``.\n",
            "    dtype : data-type, optional\n",
            "        The desired data-type for the array, e.g., `numpy.int8`.  Default is\n",
            "        `numpy.float64`.\n",
            "    order : {'C', 'F'}, optional, default: C\n",
            "        Whether to store multi-dimensional data in row-major\n",
            "        (C-style) or column-major (Fortran-style) order in\n",
            "        memory.\n",
            "    \n",
            "    Returns\n",
            "    -------\n",
            "    out : ndarray\n",
            "        Array of ones with the given shape, dtype, and order.\n",
            "    \n",
            "    See Also\n",
            "    --------\n",
            "    ones_like : Return an array of ones with shape and type of input.\n",
            "    empty : Return a new uninitialized array.\n",
            "    zeros : Return a new array setting values to zero.\n",
            "    full : Return a new array of given shape filled with value.\n",
            "    \n",
            "    \n",
            "    Examples\n",
            "    --------\n",
            "    >>> np.ones(5)\n",
            "    array([1., 1., 1., 1., 1.])\n",
            "    \n",
            "    >>> np.ones((5,), dtype=int)\n",
            "    array([1, 1, 1, 1, 1])\n",
            "    \n",
            "    >>> np.ones((2, 1))\n",
            "    array([[1.],\n",
            "           [1.]])\n",
            "    \n",
            "    >>> s = (2,2)\n",
            "    >>> np.ones(s)\n",
            "    array([[1.,  1.],\n",
            "           [1.,  1.]])\n",
            "\n"
          ]
        }
      ],
      "source": [
        "help(np.ones)"
      ]
    },
    {
      "cell_type": "markdown",
      "metadata": {
        "id": "dWOelRxBS4HQ"
      },
      "source": [
        "##### Creating a 1 D array of ones"
      ]
    },
    {
      "cell_type": "code",
      "execution_count": 1,
      "metadata": {
        "colab": {
          "base_uri": "https://localhost:8080/",
          "height": 188
        },
        "id": "tnRrZLvoS4HQ",
        "outputId": "b4a13835-c646-4cf5-bea9-8fb1df9639d5"
      },
      "outputs": [
        {
          "output_type": "error",
          "ename": "NameError",
          "evalue": "ignored",
          "traceback": [
            "\u001b[0;31m---------------------------------------------------------------------------\u001b[0m",
            "\u001b[0;31mNameError\u001b[0m                                 Traceback (most recent call last)",
            "\u001b[0;32m<ipython-input-1-b1f453dcb00c>\u001b[0m in \u001b[0;36m<module>\u001b[0;34m()\u001b[0m\n\u001b[0;32m----> 1\u001b[0;31m \u001b[0marr\u001b[0m \u001b[0;34m=\u001b[0m \u001b[0mnp\u001b[0m\u001b[0;34m.\u001b[0m\u001b[0mones\u001b[0m\u001b[0;34m(\u001b[0m\u001b[0;36m5\u001b[0m\u001b[0;34m)\u001b[0m\u001b[0;34m\u001b[0m\u001b[0;34m\u001b[0m\u001b[0m\n\u001b[0m\u001b[1;32m      2\u001b[0m \u001b[0marr\u001b[0m\u001b[0;34m\u001b[0m\u001b[0;34m\u001b[0m\u001b[0m\n",
            "\u001b[0;31mNameError\u001b[0m: name 'np' is not defined"
          ]
        }
      ],
      "source": [
        "arr = np.ones(5)\n",
        "arr"
      ]
    },
    {
      "cell_type": "markdown",
      "metadata": {
        "id": "4Lxq-5UeS4HR"
      },
      "source": [
        "##### Notice that, by default, numpy creates data type = float64\n",
        "\n"
      ]
    },
    {
      "cell_type": "code",
      "execution_count": null,
      "metadata": {
        "id": "OIaFZa3hS4HS",
        "outputId": "6506d544-6d31-45a5-9394-5489ea8d6200"
      },
      "outputs": [
        {
          "data": {
            "text/plain": [
              "dtype('float64')"
            ]
          },
          "execution_count": 4,
          "metadata": {},
          "output_type": "execute_result"
        }
      ],
      "source": [
        "arr.dtype"
      ]
    },
    {
      "cell_type": "markdown",
      "metadata": {
        "id": "X5ipiuH6S4HT"
      },
      "source": [
        "##### Can provide dtype explicitly using dtype\n"
      ]
    },
    {
      "cell_type": "code",
      "execution_count": null,
      "metadata": {
        "id": "7xQr0eOrS4HT",
        "outputId": "fff88df6-73a1-4da9-fa90-70e6efc3b977"
      },
      "outputs": [
        {
          "data": {
            "text/plain": [
              "array([1, 1, 1, 1, 1])"
            ]
          },
          "execution_count": 5,
          "metadata": {},
          "output_type": "execute_result"
        }
      ],
      "source": [
        "arr = np.ones(5, dtype=int)\n",
        "arr"
      ]
    },
    {
      "cell_type": "code",
      "execution_count": null,
      "metadata": {
        "id": "bUPy9STYS4HU",
        "outputId": "b17fe82c-af18-4743-e4b8-92123a621c35"
      },
      "outputs": [
        {
          "data": {
            "text/plain": [
              "dtype('int64')"
            ]
          },
          "execution_count": 6,
          "metadata": {},
          "output_type": "execute_result"
        }
      ],
      "source": [
        "arr.dtype"
      ]
    },
    {
      "cell_type": "markdown",
      "metadata": {
        "id": "0o9iKFWlS4HU"
      },
      "source": [
        "##### Creating a 5  x 3 array of ones\n"
      ]
    },
    {
      "cell_type": "code",
      "execution_count": null,
      "metadata": {
        "id": "cvo4xoGcS4HV",
        "outputId": "95409228-e2bc-4785-e0f8-8e6b5998832f"
      },
      "outputs": [
        {
          "data": {
            "text/plain": [
              "array([[1., 1., 1.],\n",
              "       [1., 1., 1.],\n",
              "       [1., 1., 1.],\n",
              "       [1., 1., 1.],\n",
              "       [1., 1., 1.]])"
            ]
          },
          "execution_count": 7,
          "metadata": {},
          "output_type": "execute_result"
        }
      ],
      "source": [
        "np.ones((5,3))"
      ]
    },
    {
      "cell_type": "markdown",
      "metadata": {
        "id": "r_iXpW84S4HV"
      },
      "source": [
        "##### Creating array of zeros"
      ]
    },
    {
      "cell_type": "code",
      "execution_count": null,
      "metadata": {
        "id": "IWLyqitCS4HW",
        "outputId": "c23ff8e4-a4f9-441e-8217-532f7735ac1e"
      },
      "outputs": [
        {
          "data": {
            "text/plain": [
              "array([0., 0., 0., 0., 0.])"
            ]
          },
          "execution_count": 8,
          "metadata": {},
          "output_type": "execute_result"
        }
      ],
      "source": [
        "np.zeros(5)\n"
      ]
    },
    {
      "cell_type": "code",
      "execution_count": null,
      "metadata": {
        "id": "-mAOni2hS4HW",
        "outputId": "8c1f1a21-ddd3-486b-ab40-7f1002c36c97"
      },
      "outputs": [
        {
          "data": {
            "text/plain": [
              "array([0, 0, 0, 0, 0])"
            ]
          },
          "execution_count": 9,
          "metadata": {},
          "output_type": "execute_result"
        }
      ],
      "source": [
        "# convert the type into integer.\n",
        "np.zeros(5, dtype=int)"
      ]
    },
    {
      "cell_type": "code",
      "execution_count": 2,
      "metadata": {
        "colab": {
          "base_uri": "https://localhost:8080/"
        },
        "id": "JYdq5bmSS4HW",
        "outputId": "ad93bed7-337a-45d4-b6f7-ad27eec749d6"
      },
      "outputs": [
        {
          "output_type": "execute_result",
          "data": {
            "text/plain": [
              "[1, 2, 3, 4]"
            ]
          },
          "metadata": {},
          "execution_count": 2
        }
      ],
      "source": [
        "# Create a list of integers range between 1 to 5.\n",
        "list(range(1,5))"
      ]
    },
    {
      "cell_type": "code",
      "execution_count": null,
      "metadata": {
        "id": "tyaNVPrBS4HX",
        "outputId": "e8d6b06a-cc3a-4fb6-e5f1-0034b095914b"
      },
      "outputs": [
        {
          "data": {
            "text/plain": [
              "array([0, 1, 2])"
            ]
          },
          "execution_count": 13,
          "metadata": {},
          "output_type": "execute_result"
        }
      ],
      "source": [
        "np.arange(3)"
      ]
    },
    {
      "cell_type": "code",
      "execution_count": null,
      "metadata": {
        "id": "AIFgZq_FS4HX",
        "outputId": "110119e5-42ad-460e-85ca-ebfb85a8e70f"
      },
      "outputs": [
        {
          "data": {
            "text/plain": [
              "array([0., 1., 2.])"
            ]
          },
          "execution_count": 14,
          "metadata": {},
          "output_type": "execute_result"
        }
      ],
      "source": [
        "np.arange(3.0)"
      ]
    },
    {
      "cell_type": "markdown",
      "metadata": {
        "id": "HEUBdKDdS4HY"
      },
      "source": [
        "##### Notice that 3 is included, 35 is not, as in standard python lists\n",
        "\n",
        "From 3 to 35 with a step of 2"
      ]
    },
    {
      "cell_type": "code",
      "execution_count": null,
      "metadata": {
        "id": "SZFHH8qQS4HY",
        "outputId": "cd818d16-8ef9-440b-a956-90440a587fa8"
      },
      "outputs": [
        {
          "data": {
            "text/plain": [
              "array([ 3,  5,  7,  9, 11, 13, 15, 17, 19, 21, 23, 25, 27, 29, 31, 33])"
            ]
          },
          "execution_count": 20,
          "metadata": {},
          "output_type": "execute_result"
        }
      ],
      "source": [
        "np.arange(3,35,2)"
      ]
    },
    {
      "cell_type": "code",
      "source": [
        "np.arange(5,50,5)"
      ],
      "metadata": {
        "colab": {
          "base_uri": "https://localhost:8080/"
        },
        "id": "RUDMqoKvcnWE",
        "outputId": "b82ade88-a676-4e04-8404-99ed89f3c187"
      },
      "execution_count": 5,
      "outputs": [
        {
          "output_type": "execute_result",
          "data": {
            "text/plain": [
              "array([ 5, 10, 15, 20, 25, 30, 35, 40, 45])"
            ]
          },
          "metadata": {},
          "execution_count": 5
        }
      ]
    },
    {
      "cell_type": "markdown",
      "metadata": {
        "id": "HBnYYBikS4HZ"
      },
      "source": [
        "##### Array of random numbers \n"
      ]
    },
    {
      "cell_type": "code",
      "execution_count": null,
      "metadata": {
        "id": "afoLyQwNS4HZ",
        "outputId": "4e1d095b-104c-4665-b586-1e2fe866baa7"
      },
      "outputs": [
        {
          "data": {
            "text/plain": [
              "array([0, 1, 0, 1, 1, 1, 0, 0, 0, 0])"
            ]
          },
          "execution_count": 21,
          "metadata": {},
          "output_type": "execute_result"
        }
      ],
      "source": [
        "np.random.randint(2, size=10)"
      ]
    },
    {
      "cell_type": "code",
      "execution_count": null,
      "metadata": {
        "id": "zMvEjg6_S4HZ",
        "outputId": "4deb8bed-71bc-4c4a-a5bd-c2cf4ad2dc57"
      },
      "outputs": [
        {
          "data": {
            "text/plain": [
              "array([3, 3, 3, 3, 4, 3, 3, 3, 3, 4])"
            ]
          },
          "execution_count": 24,
          "metadata": {},
          "output_type": "execute_result"
        }
      ],
      "source": [
        "np.random.randint(3,5, size=10)"
      ]
    },
    {
      "cell_type": "markdown",
      "metadata": {
        "id": "3Ud2_2o2S4Ha"
      },
      "source": [
        "##### 2D Array of random numbers \n"
      ]
    },
    {
      "cell_type": "code",
      "execution_count": null,
      "metadata": {
        "id": "0w1_w1EqS4Ha",
        "outputId": "69402494-2904-484d-eda9-f3c6af07bed2"
      },
      "outputs": [
        {
          "data": {
            "text/plain": [
              "array([[0.37947795, 0.50446351, 0.76204337, 0.23268129],\n",
              "       [0.49530063, 0.37298231, 0.17830691, 0.9400508 ],\n",
              "       [0.18746889, 0.99395211, 0.03729134, 0.16021317]])"
            ]
          },
          "execution_count": 25,
          "metadata": {},
          "output_type": "execute_result"
        }
      ],
      "source": [
        "np.random.random([3,4])"
      ]
    },
    {
      "cell_type": "markdown",
      "metadata": {
        "id": "pynSP62cS4Ha"
      },
      "source": [
        "###### Sometimes, you know the length of the array, not the step size\n",
        "\n",
        "Array of length 20 between 1 and 10"
      ]
    },
    {
      "cell_type": "code",
      "execution_count": null,
      "metadata": {
        "id": "jJLVLZjcS4Ha",
        "outputId": "26b4ecff-47f0-4433-d844-4eb85b4c1553"
      },
      "outputs": [
        {
          "data": {
            "text/plain": [
              "array([ 1.        ,  1.47368421,  1.94736842,  2.42105263,  2.89473684,\n",
              "        3.36842105,  3.84210526,  4.31578947,  4.78947368,  5.26315789,\n",
              "        5.73684211,  6.21052632,  6.68421053,  7.15789474,  7.63157895,\n",
              "        8.10526316,  8.57894737,  9.05263158,  9.52631579, 10.        ])"
            ]
          },
          "execution_count": 27,
          "metadata": {},
          "output_type": "execute_result"
        }
      ],
      "source": [
        "np.linspace(1,10,20)"
      ]
    },
    {
      "cell_type": "markdown",
      "metadata": {
        "id": "H4kKojRFS4Hb"
      },
      "source": [
        "<h2 style = \"color : Sky blue\"> Exercises </h2>"
      ]
    },
    {
      "cell_type": "markdown",
      "metadata": {
        "id": "iql155B4S4Hb"
      },
      "source": [
        "\n",
        "\n",
        "Apart from the methods mentioned above, there are a few more NumPy functions that you can use to create special NumPy arrays:\n",
        "\n",
        "-  `np.full()`: Create a constant array of any number ‘n’\n",
        "-  `np.tile()`: Create a new array by repeating an existing array for a particular number of times\n",
        "-  `np.eye()`: Create an identity matrix of any dimension\n",
        "-  `np.random.randint()`: Create a random array of integers within a particular range"
      ]
    },
    {
      "cell_type": "code",
      "execution_count": null,
      "metadata": {
        "id": "XtxGXRR3S4Hc"
      },
      "outputs": [],
      "source": [
        ""
      ]
    }
  ],
  "metadata": {
    "kernelspec": {
      "display_name": "Python 3",
      "language": "python",
      "name": "python3"
    },
    "language_info": {
      "codemirror_mode": {
        "name": "ipython",
        "version": 3
      },
      "file_extension": ".py",
      "mimetype": "text/x-python",
      "name": "python",
      "nbconvert_exporter": "python",
      "pygments_lexer": "ipython3",
      "version": "3.7.3"
    },
    "colab": {
      "name": "Creating NumPy Arrays",
      "provenance": [],
      "include_colab_link": true
    }
  },
  "nbformat": 4,
  "nbformat_minor": 0
}